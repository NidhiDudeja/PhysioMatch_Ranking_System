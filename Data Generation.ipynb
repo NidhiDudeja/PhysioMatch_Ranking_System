{
 "cells": [
  {
   "cell_type": "code",
   "execution_count": 6,
   "id": "a6b7b2c3",
   "metadata": {},
   "outputs": [],
   "source": [
    "# Import necessary libraries \n",
    "import pandas as pd\n",
    "import numpy as np\n",
    "import random\n",
    "from typing import List\n",
    "\n",
    "# Initialize random seeds\n",
    "np.random.seed(42)\n",
    "random.seed(42)\n"
   ]
  },
  {
   "cell_type": "code",
   "execution_count": 7,
   "id": "e057d9b5",
   "metadata": {},
   "outputs": [],
   "source": [
    "# Configuration dictionary \n",
    "CONFIG = {\n",
    "    \"initial_num_users\": 500,\n",
    "    \"goal_options\": [\"weight_loss\", \"muscle_gain\", \"rehabilitation\", \"flexibility\", \"general_fitness\"],\n",
    "    \"fitness_levels\": [\"beginner\", \"intermediate\", \"advanced\"],\n",
    "    \"average_interactions_per_user\": 5\n",
    "}"
   ]
  },
  {
   "cell_type": "code",
   "execution_count": 8,
   "id": "a85d7aa6",
   "metadata": {},
   "outputs": [],
   "source": [
    "# Load trainer data\n",
    "trainer_data_path = \"/Users/nidhidudeja/Desktop/Ranking_Algorithm_Code/Trainers_ Data.xlsx\"\n",
    "trainers_df = pd.read_excel(trainer_data_path)\n",
    "trainers_df[\"trainer_id\"] = trainers_df.index + 1  "
   ]
  },
  {
   "cell_type": "code",
   "execution_count": 9,
   "id": "00531695",
   "metadata": {},
   "outputs": [],
   "source": [
    "# -----------------------\n",
    "# OOP DESIGN: Dynamic System\n",
    "# -----------------------\n",
    "\n",
    "class User:\n",
    "    def __init__(self, user_id: int, config: dict):\n",
    "        self.user_id = user_id\n",
    "        self.age = random.randint(18, 60)\n",
    "        self.gender = random.choice([\"male\", \"female\"])\n",
    "        self.goal = random.choice(config[\"goal_options\"])\n",
    "        self.fitness_level = random.choice(config[\"fitness_levels\"])\n",
    "\n",
    "    def to_dict(self):\n",
    "        return {\n",
    "            \"user_id\": self.user_id,\n",
    "            \"age\": self.age,\n",
    "            \"gender\": self.gender,\n",
    "            \"goal\": self.goal,\n",
    "            \"fitness_level\": self.fitness_level\n",
    "        }\n",
    "\n",
    "class InteractionSimulator:\n",
    "    def __init__(self, trainers: pd.DataFrame, config: dict):\n",
    "        self.trainers = trainers\n",
    "        self.config = config\n",
    "\n",
    "    def simulate_weekly_interactions(self, users: List[User], week_id: int) -> pd.DataFrame:\n",
    "        all_interactions = []\n",
    "        for user in users:\n",
    "            num_interactions = np.random.poisson(lam=self.config[\"average_interactions_per_user\"])\n",
    "            if num_interactions == 0:\n",
    "                continue\n",
    "\n",
    "            sampled_trainers = self.trainers.sample(min(num_interactions, len(self.trainers)))\n",
    "            for _, trainer in sampled_trainers.iterrows():\n",
    "                goal_match = user.goal.replace(\"_\", \" \") in str(trainer[\"specialities\"]).lower()\n",
    "\n",
    "                impressions = random.randint(1, 5)\n",
    "                clicks = np.random.binomial(impressions, 0.6 if goal_match else 0.25)\n",
    "                video_views = clicks if clicks > 0 else np.random.binomial(impressions, 0.2)\n",
    "                avg_watch_time = round(np.random.uniform(0.6, 1.0), 2) if clicks else round(np.random.uniform(0.0, 0.5), 2)\n",
    "                likes = np.random.binomial(video_views, 0.3) if video_views else 0\n",
    "                label = int(clicks > 0 and avg_watch_time > 0.5)\n",
    "\n",
    "                interaction = {\n",
    "                    \"user_id\": user.user_id,\n",
    "                    \"trainer_id\": trainer[\"trainer_id\"],\n",
    "                    \"week_id\": week_id,\n",
    "                    \"impressions\": impressions,\n",
    "                    \"clicks\": clicks,\n",
    "                    \"video_views\": video_views,\n",
    "                    \"avg_watch_time\": avg_watch_time,\n",
    "                    \"likes\": likes,\n",
    "                    \"label\": label\n",
    "                }\n",
    "                all_interactions.append(interaction)\n",
    "        return pd.DataFrame(all_interactions)"
   ]
  },
  {
   "cell_type": "code",
   "execution_count": 10,
   "id": "cc36dba4",
   "metadata": {},
   "outputs": [],
   "source": [
    "# Generate users once\n",
    "users = [User(user_id=i+1, config=CONFIG) for i in range(CONFIG[\"initial_num_users\"])]\n",
    "users_df = pd.DataFrame([u.to_dict() for u in users])\n",
    "\n",
    "# Simulate for weeks 1 to 4 and combine\n",
    "simulator = InteractionSimulator(trainers_df, CONFIG)\n",
    "weekly_dfs = []\n",
    "for week in range(1, 5):\n",
    "    weekly_df = simulator.simulate_weekly_interactions(users, week_id=week)\n",
    "    weekly_dfs.append(weekly_df)\n",
    "\n",
    "all_weeks_df = pd.concat(weekly_dfs, ignore_index=True)\n",
    "\n"
   ]
  },
  {
   "cell_type": "code",
   "execution_count": 11,
   "id": "0d6a1e76",
   "metadata": {},
   "outputs": [],
   "source": [
    "all_weeks_df.to_csv(\"All_weeks_Interactions.csv\",index=False)"
   ]
  },
  {
   "cell_type": "code",
   "execution_count": 12,
   "id": "b687d71c",
   "metadata": {},
   "outputs": [],
   "source": [
    "users_df.to_csv(\"Users.csv\", index=False)"
   ]
  },
  {
   "cell_type": "markdown",
   "id": "0f221a2e",
   "metadata": {},
   "source": [
    "\n"
   ]
  },
  {
   "cell_type": "markdown",
   "id": "ea743162",
   "metadata": {},
   "source": []
  }
 ],
 "metadata": {
  "kernelspec": {
   "display_name": "base",
   "language": "python",
   "name": "python3"
  },
  "language_info": {
   "codemirror_mode": {
    "name": "ipython",
    "version": 3
   },
   "file_extension": ".py",
   "mimetype": "text/x-python",
   "name": "python",
   "nbconvert_exporter": "python",
   "pygments_lexer": "ipython3",
   "version": "3.12.2"
  }
 },
 "nbformat": 4,
 "nbformat_minor": 5
}
